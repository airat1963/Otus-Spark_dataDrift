{
 "cells": [
  {
   "cell_type": "code",
   "execution_count": 2,
   "id": "19369354",
   "metadata": {},
   "outputs": [
    {
     "name": "stdout",
     "output_type": "stream",
     "text": [
      "Defaulting to user installation because normal site-packages is not writeable\n",
      "Requirement already satisfied: findspark in ./.local/lib/python3.8/site-packages (2.0.1)\n"
     ]
    }
   ],
   "source": [
    "!pip install findspark"
   ]
  },
  {
   "cell_type": "code",
   "execution_count": 4,
   "id": "c1f9903a",
   "metadata": {},
   "outputs": [],
   "source": [
    "import findspark\n",
    "findspark.init()"
   ]
  },
  {
   "cell_type": "code",
   "execution_count": 15,
   "id": "3f97342f",
   "metadata": {},
   "outputs": [],
   "source": [
    "from pyspark.sql import SparkSession\n",
    "from pyspark.sql.functions import col, mean, stddev,count\n",
    "from scipy.stats import ks_2samp\n",
    "import pandas as pd\n",
    "import matplotlib.pyplot as plt"
   ]
  },
  {
   "cell_type": "code",
   "execution_count": 16,
   "id": "2d71321a",
   "metadata": {},
   "outputs": [],
   "source": [
    "\n",
    "from pyspark.sql.types import *\n",
    "import time"
   ]
  },
  {
   "cell_type": "code",
   "execution_count": null,
   "id": "b1232835",
   "metadata": {},
   "outputs": [],
   "source": [
    "# 1. Инициализация Spark\n",
    "spark = SparkSession.builder \\\n",
    "    .appName(\"Parquet_Drift_Analysis_Fixed\") \\\n",
    "    .config(\"spark.hadoop.fs.s3a.access.key\", \"access_key\") \\\n",
    "    .config(\"spark.hadoop.fs.s3a.secret.key\", \"secret_key\") \\\n",
    "    .config(\"spark.hadoop.fs.s3a.endpoint\", \"storage.yandexcloud.net\") \\\n",
    "    .config(\"spark.sql.parquet.filterPushdown\", \"true\") \\\n",
    "    .getOrCreate()"
   ]
  },
  {
   "cell_type": "code",
   "execution_count": 18,
   "id": "49e39284",
   "metadata": {},
   "outputs": [],
   "source": [
    "# 2. Определение схемы\n",
    "transaction_schema = StructType([\n",
    "    StructField(\"transaction_id\", IntegerType()),\n",
    "    StructField(\"tx_datetime\", TimestampType()),\n",
    "    StructField(\"customer_id\", IntegerType()),\n",
    "    StructField(\"terminal_id\", IntegerType()),\n",
    "    StructField(\"tx_amount\", DoubleType()),\n",
    "    StructField(\"tx_time_seconds\", IntegerType()),\n",
    "    StructField(\"tx_time_days\", IntegerType()),\n",
    "    StructField(\"tx_fraud\", IntegerType()),\n",
    "    StructField(\"tx_fraud_scenario\", IntegerType())\n",
    "])"
   ]
  },
  {
   "cell_type": "code",
   "execution_count": 19,
   "id": "d7d657a0",
   "metadata": {},
   "outputs": [],
   "source": [
    "# 3. Функция для чтения Parquet с проверкой\n",
    "def read_parquet_safe(path):\n",
    "    try:\n",
    "        df = spark.read.schema(transaction_schema).parquet(path)\n",
    "        print(f\"Успешно загружен: {path.split('/')[-1]}\")\n",
    "        print(f\"Количество строк: {df.count():,}\")\n",
    "        return df\n",
    "    except Exception as e:\n",
    "        print(f\"Ошибка загрузки {path}: {str(e)}\")\n",
    "        return None"
   ]
  },
  {
   "cell_type": "code",
   "execution_count": 20,
   "id": "3ba4b104",
   "metadata": {},
   "outputs": [],
   "source": [
    "# 4. Расчет метрик дрифта\n",
    "def calculate_drift(prev_df, current_df, column=\"tx_amount\"):\n",
    "    # Базовые статистики\n",
    "    prev_stats = prev_df.select(\n",
    "        mean(col(column)).alias(\"mean\"),\n",
    "        stddev(col(column)).alias(\"stddev\"),\n",
    "        count(col(column)).alias(\"count\")\n",
    "    ).collect()[0]\n",
    "    \n",
    "    current_stats = current_df.select(\n",
    "        mean(col(column)).alias(\"mean\"),\n",
    "        stddev(col(column)).alias(\"stddev\"),\n",
    "        count(col(column)).alias(\"count\")\n",
    "    ).collect()[0]\n",
    "    \n",
    "    # KS-тест на выборке\n",
    "    sample_size = min(10000, int(prev_stats[\"count\"]*0.1))\n",
    "    prev_sample = prev_df.select(column).sample(False, 0.1).limit(sample_size).toPandas()[column]\n",
    "    current_sample = current_df.select(column).sample(False, 0.1).limit(sample_size).toPandas()[column]\n",
    "    \n",
    "    ks_stat, p_value = ks_2samp(prev_sample, current_sample)\n",
    "    \n",
    "    return {\n",
    "        \"ks_stat\": float(ks_stat),\n",
    "        \"p_value\": float(p_value),\n",
    "        \"prev_mean\": float(prev_stats[\"mean\"]),\n",
    "        \"current_mean\": float(current_stats[\"mean\"]),\n",
    "        \"mean_diff\": float(current_stats[\"mean\"] - prev_stats[\"mean\"])\n",
    "    }\n"
   ]
  },
  {
   "cell_type": "code",
   "execution_count": 21,
   "id": "9e9fb6bf",
   "metadata": {},
   "outputs": [],
   "source": [
    "# 5. Список файлов для анализа\n",
    "parquet_paths = [\n",
    "    \"s3a://fraud-detection-data-otus-2025/parquet/2019-08-22\",\n",
    "    \"s3a://fraud-detection-data-otus-2025/parquet/2019-09-21\",\n",
    "    \"s3a://fraud-detection-data-otus-2025/parquet/2019-10-21\"\n",
    "]"
   ]
  },
  {
   "cell_type": "code",
   "execution_count": 22,
   "id": "ba23882c",
   "metadata": {},
   "outputs": [
    {
     "name": "stdout",
     "output_type": "stream",
     "text": [
      "\n",
      "Сравнение: 2019-08-22 vs 2019-09-21\n",
      "Успешно загружен: 2019-08-22\n",
      "Количество строк: 46,988,419\n",
      "Успешно загружен: 2019-09-21\n",
      "Количество строк: 46,994,587\n",
      "\n",
      "Сравнение: 2019-09-21 vs 2019-10-21\n",
      "Успешно загружен: 2019-09-21\n",
      "Количество строк: 46,994,587\n",
      "Успешно загружен: 2019-10-21\n",
      "Количество строк: 46,994,433\n"
     ]
    }
   ],
   "source": [
    "# 6. Основной анализ\n",
    "results = []\n",
    "for i in range(1, len(parquet_paths)):\n",
    "    prev_path = parquet_paths[i-1]\n",
    "    current_path = parquet_paths[i]\n",
    "    \n",
    "    print(f\"\\nСравнение: {prev_path.split('/')[-1]} vs {current_path.split('/')[-1]}\")\n",
    "    \n",
    "    prev_df = read_parquet_safe(prev_path)\n",
    "    current_df = read_parquet_safe(current_path)\n",
    "    \n",
    "    if prev_df and current_df:\n",
    "        metrics = calculate_drift(prev_df, current_df)\n",
    "        results.append({\n",
    "            \"comparison\": f\"{prev_path.split('/')[-1]} → {current_path.split('/')[-1]}\",\n",
    "            **metrics\n",
    "        })\n"
   ]
  },
  {
   "cell_type": "code",
   "execution_count": 23,
   "id": "2fd1b3d5",
   "metadata": {},
   "outputs": [
    {
     "data": {
      "image/png": "[encoded data removed]",
      "text/plain": [
       "<Figure size 1008x432 with 2 Axes>"
      ]
     },
     "metadata": {
      "needs_background": "light"
     },
     "output_type": "display_data"
    },
    {
     "name": "stdout",
     "output_type": "stream",
     "text": [
      "\n",
      "Результаты сохранены в drift_analysis_results.csv\n",
      "                comparison  ks_stat   p_value  prev_mean  current_mean  \\\n",
      "0  2019-08-22 → 2019-09-21   0.0097  0.734599   54.23396      54.23517   \n",
      "1  2019-09-21 → 2019-10-21   0.0107  0.616085   54.23517      54.22943   \n",
      "\n",
      "   mean_diff  \n",
      "0    0.00121  \n",
      "1   -0.00574  \n"
     ]
    }
   ],
   "source": [
    "# 7. Визуализация результатов\n",
    "if results:\n",
    "    results_df = pd.DataFrame(results)\n",
    "    \n",
    "    plt.figure(figsize=(14, 6))\n",
    "    \n",
    "    # График KS статистики\n",
    "    plt.subplot(1, 2, 1)\n",
    "    plt.plot(results_df['ks_stat'], 'o-', label='KS statistic')\n",
    "    plt.axhline(y=0.2, color='r', linestyle='--', label='Drift threshold')\n",
    "    plt.title('Kolmogorov-Smirnov Test (tx_amount)')\n",
    "    plt.xticks(ticks=range(len(results_df)), labels=results_df['comparison'], rotation=45)\n",
    "    plt.legend()\n",
    "    plt.grid()\n",
    "    \n",
    "    # График изменения среднего\n",
    "    plt.subplot(1, 2, 2)\n",
    "    plt.bar(results_df['comparison'], results_df['mean_diff'])\n",
    "    plt.title('Difference in Mean Transaction Amount')\n",
    "    plt.xticks(rotation=45)\n",
    "    plt.grid()\n",
    "    \n",
    "    plt.tight_layout()\n",
    "    plt.show()\n",
    "    \n",
    "    # Сохранение результатов\n",
    "    results_df.to_csv(\"drift_analysis_results.csv\", index=False)\n",
    "    print(\"\\nРезультаты сохранены в drift_analysis_results.csv\")\n",
    "    print(results_df)\n",
    "else:\n",
    "    print(\"\\nНе удалось получить результаты дрифта\")"
   ]
  },
  {
   "cell_type": "code",
   "execution_count": null,
   "id": "0e1a637f",
   "metadata": {},
   "outputs": [],
   "source": [
    "\n",
    "\n",
    "spark.stop()"
   ]
  },
  {
   "cell_type": "code",
   "execution_count": null,
   "id": "ee72056e",
   "metadata": {},
   "outputs": [],
   "source": []
  }
 ],
 "metadata": {
  "kernelspec": {
   "display_name": "Python 3",
   "language": "python",
   "name": "python3"
  },
  "language_info": {
   "codemirror_mode": {
    "name": "ipython",
    "version": 3
   },
   "file_extension": ".py",
   "mimetype": "text/x-python",
   "name": "python",
   "nbconvert_exporter": "python",
   "pygments_lexer": "ipython3",
   "version": "3.8.10"
  }
 },
 "nbformat": 4,
 "nbformat_minor": 5
}

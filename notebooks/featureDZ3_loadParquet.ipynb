{
 "cells": [
  {
   "cell_type": "code",
   "execution_count": 1,
   "id": "518ada0e",
   "metadata": {},
   "outputs": [
    {
     "name": "stdout",
     "output_type": "stream",
     "text": [
      "Defaulting to user installation because normal site-packages is not writeable\n",
      "Collecting findspark\n",
      "  Downloading findspark-2.0.1-py2.py3-none-any.whl (4.4 kB)\n",
      "Installing collected packages: findspark\n",
      "Successfully installed findspark-2.0.1\n"
     ]
    }
   ],
   "source": [
    "!pip install findspark"
   ]
  },
  {
   "cell_type": "code",
   "execution_count": 1,
   "id": "aeaa30b2",
   "metadata": {},
   "outputs": [],
   "source": [
    "import findspark\n",
    "findspark.init()"
   ]
  },
  {
   "cell_type": "code",
   "execution_count": 2,
   "id": "f6b9445f",
   "metadata": {},
   "outputs": [],
   "source": [
    "from pyspark.sql import SparkSession\n",
    "from pyspark.sql.functions import input_file_name\n",
    "import os"
   ]
  },
  {
   "cell_type": "code",
   "execution_count": null,
   "id": "e1e297d0",
   "metadata": {},
   "outputs": [],
   "source": [
    "# Инициализация Spark с настройками для Yandex Object Storage\n",
    "spark = SparkSession.builder \\\n",
    "    .appName(\"Load_Parquet_Data\") \\\n",
    "    .config(\"spark.hadoop.fs.s3a.impl\", \"org.apache.hadoop.fs.s3a.S3AFileSystem\") \\\n",
    "    .config(\"spark.hadoop.fs.s3a.access.key\", os.getenv(\"access_key\")) \\\n",
    "    .config(\"spark.hadoop.fs.s3a.secret.key\", os.getenv(\"secret_key\")) \\\n",
    "    .config(\"spark.hadoop.fs.s3a.endpoint\", \"storage.yandexcloud.net\") \\\n",
    "    .config(\"spark.sql.parquet.enableVectorizedReader\", \"true\") \\\n",
    "    .config(\"spark.sql.sources.partitionOverwriteMode\", \"dynamic\") \\\n",
    "    .getOrCreate()"
   ]
  },
  {
   "cell_type": "code",
   "execution_count": 4,
   "id": "8bb41fda",
   "metadata": {},
   "outputs": [],
   "source": [
    "# Путь к данным\n",
    "input_parquet_path = \"s3a://fraud-detection-data-otus-2025/parquet/*\""
   ]
  },
  {
   "cell_type": "code",
   "execution_count": 5,
   "id": "758801db",
   "metadata": {},
   "outputs": [],
   "source": [
    "def load_parquet_data():\n",
    "    try:\n",
    "        # Чтение данных с информацией об исходных файлах\n",
    "        df = spark.read.parquet(input_parquet_path) \\\n",
    "            .withColumn(\"source_file\", input_file_name())\n",
    "        \n",
    "        # Проверка загруженных данных\n",
    "        print(f\"Успешно загружено {df.count()} записей\")\n",
    "        print(\"Схема данных:\")\n",
    "        df.printSchema()\n",
    "        \n",
    "        # Пример статистики\n",
    "        df.select(\"tx_fraud\").groupBy(\"tx_fraud\").count().show()\n",
    "        \n",
    "        return df\n",
    "    except Exception as e:\n",
    "        print(f\"Ошибка при загрузке данных: {str(e)}\")\n",
    "        raise\n"
   ]
  },
  {
   "cell_type": "code",
   "execution_count": 6,
   "id": "3a4660b2",
   "metadata": {},
   "outputs": [
    {
     "name": "stdout",
     "output_type": "stream",
     "text": [
      "Начало загрузки данных из S3...\n",
      "Успешно загружено 657923861 записей\n",
      "Схема данных:\n",
      "root\n",
      " |-- transaction_id: integer (nullable = true)\n",
      " |-- tx_datetime: timestamp (nullable = true)\n",
      " |-- customer_id: integer (nullable = true)\n",
      " |-- terminal_id: integer (nullable = true)\n",
      " |-- tx_amount: double (nullable = true)\n",
      " |-- tx_time_seconds: integer (nullable = true)\n",
      " |-- tx_time_days: integer (nullable = true)\n",
      " |-- tx_fraud: integer (nullable = true)\n",
      " |-- tx_fraud_scenario: integer (nullable = true)\n",
      " |-- source_file: string (nullable = false)\n",
      "\n",
      "+--------+---------+\n",
      "|tx_fraud|    count|\n",
      "+--------+---------+\n",
      "|    null|       14|\n",
      "|       1| 35039600|\n",
      "|       0|622884247|\n",
      "+--------+---------+\n",
      "\n",
      "+-------+------------+-----------+\n",
      "|  month|transactions|fraud_count|\n",
      "+-------+------------+-----------+\n",
      "|   null|        1365|         71|\n",
      "|2019-11|    17228248|     935127|\n",
      "|2019-12|    48564263|    2457912|\n",
      "|2020-01|    48559625|    2488159|\n",
      "|2020-02|    45418444|    2317729|\n",
      "|2020-03|    48559659|    2630313|\n",
      "|2020-04|    46991451|    2947503|\n",
      "|2020-05|    48569036|    3225251|\n",
      "|2020-06|    46990828|    2331607|\n",
      "|2020-07|    48553937|    2517827|\n",
      "|2020-08|    48572825|    2434430|\n",
      "|2020-09|    47004460|    2469058|\n",
      "|2020-10|    48563879|    2463534|\n",
      "|2020-11|    47000571|    2292567|\n",
      "|2020-12|    48557674|    2535262|\n",
      "|2021-01|    18787596|     993250|\n",
      "+-------+------------+-----------+\n",
      "\n"
     ]
    }
   ],
   "source": [
    "if __name__ == \"__main__\":\n",
    "    print(\"Начало загрузки данных из S3...\")\n",
    "    df = load_parquet_data()\n",
    "    \n",
    "    # Регистрация DataFrame как временной таблицы\n",
    "    df.createOrReplaceTempView(\"fraud_transactions\")\n",
    "    \n",
    "    # Пример запроса\n",
    "    spark.sql(\"\"\"\n",
    "        SELECT date_format(tx_datetime, 'yyyy-MM') as month, \n",
    "               COUNT(*) as transactions,\n",
    "               SUM(tx_fraud) as fraud_count\n",
    "        FROM fraud_transactions\n",
    "        GROUP BY month\n",
    "        ORDER BY month\n",
    "    \"\"\").show()"
   ]
  },
  {
   "cell_type": "code",
   "execution_count": 7,
   "id": "d91e9669",
   "metadata": {},
   "outputs": [],
   "source": [
    "    \n",
    "    spark.stop()\n"
   ]
  },
  {
   "cell_type": "code",
   "execution_count": null,
   "id": "bb74b468",
   "metadata": {},
   "outputs": [],
   "source": []
  }
 ],
 "metadata": {
  "kernelspec": {
   "display_name": "Python 3",
   "language": "python",
   "name": "python3"
  },
  "language_info": {
   "codemirror_mode": {
    "name": "ipython",
    "version": 3
   },
   "file_extension": ".py",
   "mimetype": "text/x-python",
   "name": "python",
   "nbconvert_exporter": "python",
   "pygments_lexer": "ipython3",
   "version": "3.8.10"
  }
 },
 "nbformat": 4,
 "nbformat_minor": 5
}
